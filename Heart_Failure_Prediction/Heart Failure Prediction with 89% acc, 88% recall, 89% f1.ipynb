{
 "cells": [
  {
   "cell_type": "markdown",
   "id": "ac04da50",
   "metadata": {
    "papermill": {
     "duration": 0.043336,
     "end_time": "2021-12-06T00:15:33.516676",
     "exception": false,
     "start_time": "2021-12-06T00:15:33.473340",
     "status": "completed"
    },
    "tags": []
   },
   "source": [
    "# Data Exploring & Collection"
   ]
  },
  {
   "cell_type": "markdown",
   "id": "04d68fb4",
   "metadata": {
    "papermill": {
     "duration": 0.041504,
     "end_time": "2021-12-06T00:15:33.602672",
     "exception": false,
     "start_time": "2021-12-06T00:15:33.561168",
     "status": "completed"
    },
    "tags": []
   },
   "source": [
    "Attribute Information Categorical Variables\n",
    "\n",
    "Sex: sex of the patient [M: Male, F: Female]\n",
    "\n",
    "ChestPainType: chest pain type [TA: Typical Angina, ATA: Atypical Angina, NAP: Non-Anginal Pain, ASY: Asymptomatic]\n",
    "\n",
    "FastingBS: fasting blood sugar [1: if FastingBS > 120 mg/dl, 0: otherwise]\n",
    "\n",
    "RestingECG: resting electrocardiogram results [Normal: Normal, ST: having ST-T wave abnormality (T wave inversions and/or ST elevation or depression of > 0.05 mV), LVH: showing probable or definite left ventricular hypertrophy by Estes' criteria]\n",
    "\n",
    "ExerciseAngina: exercise-induced angina [Y: Yes, N: No]\n",
    "\n",
    "ST_Slope: the slope of the peak exercise ST segment [Up: upsloping, Flat: flat, Down: downsloping]\n",
    "\n",
    "(Target) HeartDisease: output class [1: heart disease, 0: Normal]\n",
    "\n",
    "Numeric Variables\n",
    "\n",
    "Age: age of the patient [years]\n",
    "\n",
    "RestingBP: resting blood pressure [mm Hg]\n",
    "\n",
    "Cholesterol: serum cholesterol [mm/dl]\n",
    "\n",
    "MaxHR: maximum heart rate achieved [Numeric value between 60 and 202]\n",
    "\n",
    "Oldpeak: oldpeak = ST [Numeric value measured in depression]"
   ]
  },
  {
   "cell_type": "code",
   "execution_count": 1,
   "id": "8a7b4cc6",
   "metadata": {
    "_cell_guid": "b1076dfc-b9ad-4769-8c92-a6c4dae69d19",
    "_uuid": "8f2839f25d086af736a60e9eeb907d3b93b6e0e5",
    "execution": {
     "iopub.execute_input": "2021-12-06T00:15:33.695442Z",
     "iopub.status.busy": "2021-12-06T00:15:33.693623Z",
     "iopub.status.idle": "2021-12-06T00:15:36.787556Z",
     "shell.execute_reply": "2021-12-06T00:15:36.788151Z",
     "shell.execute_reply.started": "2021-12-06T00:07:41.620324Z"
    },
    "papermill": {
     "duration": 3.142821,
     "end_time": "2021-12-06T00:15:36.788441",
     "exception": false,
     "start_time": "2021-12-06T00:15:33.645620",
     "status": "completed"
    },
    "tags": []
   },
   "outputs": [
    {
     "data": {
      "text/html": [
       "<style type='text/css'>\n",
       ".datatable table.frame { margin-bottom: 0; }\n",
       ".datatable table.frame thead { border-bottom: none; }\n",
       ".datatable table.frame tr.coltypes td {  color: #FFFFFF;  line-height: 6px;  padding: 0 0.5em;}\n",
       ".datatable .bool    { background: #DDDD99; }\n",
       ".datatable .object  { background: #565656; }\n",
       ".datatable .int     { background: #5D9E5D; }\n",
       ".datatable .float   { background: #4040CC; }\n",
       ".datatable .str     { background: #CC4040; }\n",
       ".datatable .time    { background: #40CC40; }\n",
       ".datatable .row_index {  background: var(--jp-border-color3);  border-right: 1px solid var(--jp-border-color0);  color: var(--jp-ui-font-color3);  font-size: 9px;}\n",
       ".datatable .frame tbody td { text-align: left; }\n",
       ".datatable .frame tr.coltypes .row_index {  background: var(--jp-border-color0);}\n",
       ".datatable th:nth-child(2) { padding-left: 12px; }\n",
       ".datatable .hellipsis {  color: var(--jp-cell-editor-border-color);}\n",
       ".datatable .vellipsis {  background: var(--jp-layout-color0);  color: var(--jp-cell-editor-border-color);}\n",
       ".datatable .na {  color: var(--jp-cell-editor-border-color);  font-size: 80%;}\n",
       ".datatable .sp {  opacity: 0.25;}\n",
       ".datatable .footer { font-size: 9px; }\n",
       ".datatable .frame_dimensions {  background: var(--jp-border-color3);  border-top: 1px solid var(--jp-border-color0);  color: var(--jp-ui-font-color3);  display: inline-block;  opacity: 0.6;  padding: 1px 10px 1px 5px;}\n",
       ".datatable .frame thead tr.colnames {  background-image: url('data:image/png;base64,iVBORw0KGgoAAAANSUhEUgAAABwAAAA4CAYAAADuMJi0AAAGR0lEQVR42rVZ21IbRxBtCbQrkIR2dQVjsLmDLBsET3nTQ8ouYRkQVf6e/E9+Im958qMfkgoXAaKSSj6C9Jnd2R2NeiRSRaZqitVOT5+Z6dNnWoKGlN94JFp8Ipofkb/7SOXjGyp8wF+z35K3f0uUp/GW4XfLQ8v2gefj3ZCCzojoNfue+43o1Q3l3xB/yA3JO7jnF2pCLnI+pNyx/qw7L+SQ7T2N9p2f8c60QcfcK6KGXsAd+ZvA4LlZYuSSAoOhMs5vwJkEGDlbPMaJoA+FcQ0IH38QLWkbAFLkOOhoMF5tU6/eBRhNjro0ZgKiPRAt3FLhCO/vqdgmNTm32LkmKpvBmQY4q5uAaAgbwDBG2BVv3bfI8KKAMWj2kfw9+pkZREIbEql4ST1x7hgHIANkbJ//MF8mAH/ilTCJ2tIi4ASr1IC3VNqXHKOxjy34mgoImnOQtx1g81fkqTiMOBVGcTogNhiT5iBHET8R8C+iApJUmgim3SQAXhsLQz7ee2G8gOAQNtJckBEplADiAxtX+G9NmhDl0qJKnTvyWlAMPYZnvIviGXRg6/Dh824DBXhP/tbfREXJEIvQ+aaPGjG7pvw6r3xdx+9hqb4dgZaP2XmdHO2K/B0c1+oUph6k8kShBryl/Ft0DYgjTlOieOACHFFpVyUl72T9V3cM1jUoYvxIC2vpCSys/ck70mDYuYvdvKjlMdKAUThneWVU1aAsyjv6PURDiwNsHGBZzY+JtAAgE2TFxdRHJdyIp/f+zqu09M5cDP2F08Ukkpj4YNSdX950HY2pNCCUK/Hhx5ZMBfjNSEzdsIihVzzAMdn9dz4eDYhnyQb9SSCiAryiJcQk82LiTbJ4x2FZJaUenpKnzP95WyDf4Y+QN9EFHHSeDLGdBjjKNQ5vKHf4XMA7KrY0y0GEObBOO/8e1ywuQExOHXktuQyJALEBpcEqhwtHqgiDuCK5b6i0p2MQpcckIIoh+6hYgTZtO8xlMi6O4tKCF/kOGHEg/W0UUpHW0ZoGNZ1ExZWcn7EErgwt4uj50E/sFBjXXIayWvh7WryjasxarZKssXon0zxvvkc32Q0bqbBCuZiKt9dWFysfQefeL29JYFaeztX6tePaZdz5mYx8+6Zq3Mk0wXECQxlhdzgS2wjBHju3j1RIgKyOMdNUE8X0+RAdbSapS11MRCv1SzUXmO6wGZe2SQYrv2MvCSWEv2VODE6DN7bz8ufypgQKW7uQskFTQHULLKyaEyrnlZbgOGLrV5qrn9U79jjm2HJmgkaVN98AfBub91lGPLZBqdroN5LYgjSu4zYZDDHXZOIPC691HqrWI1900I8qLzgKP4ft8DxEWigprPfrO+KcXno9gZz4jjGewWdUcpGCj0qVFuGPYbl2VturndZ2qRvlL8acDO6lF/DY/VjsFesiUK+ypJ+r/ep+cJkSQxEK4PG4WozgA75TYrDDqStE69K8/mzGEM+JXTeqvmedEElMmwCMm2SLd6bNNF9su02zEtoW6nAQtpMj5Gd7fKa//wqonF7UdtHFsVn+6hf1o7AfriPH7M6EeIUEF5zKVxXbYo7kS/OEtOqDYZKPoBsETIixn0uYrasThmzDkhdKPkz2EnaX0HdQbIgr59vAdGYDqjHrxkjS7WOxkTD8sqEqhiwcJETgBYigrBqF08KyDaje9SZ/I1A7MzaTzMGDEulPtZUkuKcyIRAjxEJPVrnVlb/9wkfij31D/pQt1IN+iL8bGJcstBIO7Y5VI/cwDqURbXhMuJxBqD0KLoK3esWFs0Jz5i5ZvJUAfFJMFb9XmGIOnzGpijpcWYCaMqXSQWp8EnCABepQ0Elyi4wfKfsw78ikIqif1pe1AGPlLmojl1SKxHHXp1L+Ut7AmDQHvhI5xHGi4EooO2BR7k78PEkJOdL7cAxQUZ/Tyclu9gnfwGgOmm2lNHGNmZXsq4Pqgc1EG1ATrvKl8s4R9ywwnqulGUnaRLVhxy8v3ieUwy2hbooT68uscW++DCDH0WSzuoyN2D4LUJ/tLECbcSKznwMIFs0ChF4mRTCnQbIIfk4SHJo6A9BMuTnXTs3Ku/KxsgZWqzuSe+Os8cEUfnMBY6UF5gi3SUbd5K7vDjq5WW0UENJlRsWn4sy21Er/E/AvPQSFHy1p4fgAAAAASUVORK5CYII=');  background-repeat: repeat-x;  background-size: 14px;  height: 28px;}\n",
       "</style>\n"
      ],
      "text/plain": [
       "<IPython.core.display.HTML object>"
      ]
     },
     "metadata": {},
     "output_type": "display_data"
    },
    {
     "name": "stdout",
     "output_type": "stream",
     "text": [
      "/kaggle/input/heart-failure-prediction/heart.csv\n"
     ]
    }
   ],
   "source": [
    "# This Python 3 environment comes with many helpful analytics libraries installed\n",
    "# It is defined by the kaggle/python Docker image: https://github.com/kaggle/docker-python\n",
    "# For example, here's several helpful packages to load\n",
    "import seaborn as sns\n",
    "import numpy as np # linear algebra\n",
    "import pandas as pd # data processing, CSV file I/O (e.g. pd.read_csv)\n",
    "import matplotlib.pyplot as plt\n",
    "import plotly.graph_objects as go\n",
    "from plotly.subplots import make_subplots\n",
    "import plotly.express as px\n",
    "\n",
    "from sklearn.metrics import confusion_matrix, classification_report\n",
    "from sklearn.utils import shuffle\n",
    "from sklearn.model_selection import train_test_split,KFold\n",
    "from sklearn.preprocessing import StandardScaler\n",
    "from sklearn.impute import KNNImputer\n",
    "\n",
    "import lightgbm as lgb\n",
    "\n",
    "from sklearn.feature_selection import mutual_info_classif, chi2, f_classif\n",
    "from sklearn.metrics import roc_auc_score, f1_score, precision_score, recall_score, accuracy_score, auc, roc_curve, accuracy_score\n",
    "# Input data files are available in the read-only \"../input/\" directory\n",
    "# For example, running this (by clicking run or pressing Shift+Enter) will list all files under the input directory\n",
    "\n",
    "import os\n",
    "for dirname, _, filenames in os.walk('/kaggle/input'):\n",
    "    for filename in filenames:\n",
    "        print(os.path.join(dirname, filename))\n",
    "\n",
    "# You can write up to 20GB to the current directory (/kaggle/working/) that gets preserved as output when you create a version using \"Save & Run All\" \n",
    "# You can also write temporary files to /kaggle/temp/, but they won't be saved outside of the current session"
   ]
  },
  {
   "cell_type": "code",
   "execution_count": 2,
   "id": "24b6e71b",
   "metadata": {
    "execution": {
     "iopub.execute_input": "2021-12-06T00:15:36.882203Z",
     "iopub.status.busy": "2021-12-06T00:15:36.881453Z",
     "iopub.status.idle": "2021-12-06T00:15:36.899951Z",
     "shell.execute_reply": "2021-12-06T00:15:36.900485Z",
     "shell.execute_reply.started": "2021-12-06T00:07:41.637026Z"
    },
    "papermill": {
     "duration": 0.068186,
     "end_time": "2021-12-06T00:15:36.900714",
     "exception": false,
     "start_time": "2021-12-06T00:15:36.832528",
     "status": "completed"
    },
    "tags": []
   },
   "outputs": [],
   "source": [
    "df = pd.read_csv(\"/kaggle/input/heart-failure-prediction/heart.csv\")"
   ]
  },
  {
   "cell_type": "code",
   "execution_count": 3,
   "id": "32acf538",
   "metadata": {
    "execution": {
     "iopub.execute_input": "2021-12-06T00:15:36.993126Z",
     "iopub.status.busy": "2021-12-06T00:15:36.992479Z",
     "iopub.status.idle": "2021-12-06T00:15:37.015384Z",
     "shell.execute_reply": "2021-12-06T00:15:37.015883Z",
     "shell.execute_reply.started": "2021-12-06T00:07:42.754097Z"
    },
    "papermill": {
     "duration": 0.070523,
     "end_time": "2021-12-06T00:15:37.016063",
     "exception": false,
     "start_time": "2021-12-06T00:15:36.945540",
     "status": "completed"
    },
    "tags": []
   },
   "outputs": [
    {
     "data": {
      "text/html": [
       "<div>\n",
       "<style scoped>\n",
       "    .dataframe tbody tr th:only-of-type {\n",
       "        vertical-align: middle;\n",
       "    }\n",
       "\n",
       "    .dataframe tbody tr th {\n",
       "        vertical-align: top;\n",
       "    }\n",
       "\n",
       "    .dataframe thead th {\n",
       "        text-align: right;\n",
       "    }\n",
       "</style>\n",
       "<table border=\"1\" class=\"dataframe\">\n",
       "  <thead>\n",
       "    <tr style=\"text-align: right;\">\n",
       "      <th></th>\n",
       "      <th>Age</th>\n",
       "      <th>Sex</th>\n",
       "      <th>ChestPainType</th>\n",
       "      <th>RestingBP</th>\n",
       "      <th>Cholesterol</th>\n",
       "      <th>FastingBS</th>\n",
       "      <th>RestingECG</th>\n",
       "      <th>MaxHR</th>\n",
       "      <th>ExerciseAngina</th>\n",
       "      <th>Oldpeak</th>\n",
       "      <th>ST_Slope</th>\n",
       "      <th>HeartDisease</th>\n",
       "    </tr>\n",
       "  </thead>\n",
       "  <tbody>\n",
       "    <tr>\n",
       "      <th>0</th>\n",
       "      <td>40</td>\n",
       "      <td>M</td>\n",
       "      <td>ATA</td>\n",
       "      <td>140</td>\n",
       "      <td>289</td>\n",
       "      <td>0</td>\n",
       "      <td>Normal</td>\n",
       "      <td>172</td>\n",
       "      <td>N</td>\n",
       "      <td>0.0</td>\n",
       "      <td>Up</td>\n",
       "      <td>0</td>\n",
       "    </tr>\n",
       "    <tr>\n",
       "      <th>1</th>\n",
       "      <td>49</td>\n",
       "      <td>F</td>\n",
       "      <td>NAP</td>\n",
       "      <td>160</td>\n",
       "      <td>180</td>\n",
       "      <td>0</td>\n",
       "      <td>Normal</td>\n",
       "      <td>156</td>\n",
       "      <td>N</td>\n",
       "      <td>1.0</td>\n",
       "      <td>Flat</td>\n",
       "      <td>1</td>\n",
       "    </tr>\n",
       "    <tr>\n",
       "      <th>2</th>\n",
       "      <td>37</td>\n",
       "      <td>M</td>\n",
       "      <td>ATA</td>\n",
       "      <td>130</td>\n",
       "      <td>283</td>\n",
       "      <td>0</td>\n",
       "      <td>ST</td>\n",
       "      <td>98</td>\n",
       "      <td>N</td>\n",
       "      <td>0.0</td>\n",
       "      <td>Up</td>\n",
       "      <td>0</td>\n",
       "    </tr>\n",
       "    <tr>\n",
       "      <th>3</th>\n",
       "      <td>48</td>\n",
       "      <td>F</td>\n",
       "      <td>ASY</td>\n",
       "      <td>138</td>\n",
       "      <td>214</td>\n",
       "      <td>0</td>\n",
       "      <td>Normal</td>\n",
       "      <td>108</td>\n",
       "      <td>Y</td>\n",
       "      <td>1.5</td>\n",
       "      <td>Flat</td>\n",
       "      <td>1</td>\n",
       "    </tr>\n",
       "    <tr>\n",
       "      <th>4</th>\n",
       "      <td>54</td>\n",
       "      <td>M</td>\n",
       "      <td>NAP</td>\n",
       "      <td>150</td>\n",
       "      <td>195</td>\n",
       "      <td>0</td>\n",
       "      <td>Normal</td>\n",
       "      <td>122</td>\n",
       "      <td>N</td>\n",
       "      <td>0.0</td>\n",
       "      <td>Up</td>\n",
       "      <td>0</td>\n",
       "    </tr>\n",
       "  </tbody>\n",
       "</table>\n",
       "</div>"
      ],
      "text/plain": [
       "   Age Sex ChestPainType  RestingBP  Cholesterol  FastingBS RestingECG  MaxHR  \\\n",
       "0   40   M           ATA        140          289          0     Normal    172   \n",
       "1   49   F           NAP        160          180          0     Normal    156   \n",
       "2   37   M           ATA        130          283          0         ST     98   \n",
       "3   48   F           ASY        138          214          0     Normal    108   \n",
       "4   54   M           NAP        150          195          0     Normal    122   \n",
       "\n",
       "  ExerciseAngina  Oldpeak ST_Slope  HeartDisease  \n",
       "0              N      0.0       Up             0  \n",
       "1              N      1.0     Flat             1  \n",
       "2              N      0.0       Up             0  \n",
       "3              Y      1.5     Flat             1  \n",
       "4              N      0.0       Up             0  "
      ]
     },
     "execution_count": 3,
     "metadata": {},
     "output_type": "execute_result"
    }
   ],
   "source": [
    "df.head()"
   ]
  },
  {
   "cell_type": "code",
   "execution_count": 4,
   "id": "922a08f0",
   "metadata": {
    "execution": {
     "iopub.execute_input": "2021-12-06T00:15:37.108080Z",
     "iopub.status.busy": "2021-12-06T00:15:37.107143Z",
     "iopub.status.idle": "2021-12-06T00:15:37.146942Z",
     "shell.execute_reply": "2021-12-06T00:15:37.147429Z",
     "shell.execute_reply.started": "2021-12-06T00:07:48.000658Z"
    },
    "papermill": {
     "duration": 0.0876,
     "end_time": "2021-12-06T00:15:37.147618",
     "exception": false,
     "start_time": "2021-12-06T00:15:37.060018",
     "status": "completed"
    },
    "tags": []
   },
   "outputs": [
    {
     "data": {
      "text/html": [
       "<div>\n",
       "<style scoped>\n",
       "    .dataframe tbody tr th:only-of-type {\n",
       "        vertical-align: middle;\n",
       "    }\n",
       "\n",
       "    .dataframe tbody tr th {\n",
       "        vertical-align: top;\n",
       "    }\n",
       "\n",
       "    .dataframe thead th {\n",
       "        text-align: right;\n",
       "    }\n",
       "</style>\n",
       "<table border=\"1\" class=\"dataframe\">\n",
       "  <thead>\n",
       "    <tr style=\"text-align: right;\">\n",
       "      <th></th>\n",
       "      <th>Age</th>\n",
       "      <th>RestingBP</th>\n",
       "      <th>Cholesterol</th>\n",
       "      <th>FastingBS</th>\n",
       "      <th>MaxHR</th>\n",
       "      <th>Oldpeak</th>\n",
       "      <th>HeartDisease</th>\n",
       "    </tr>\n",
       "  </thead>\n",
       "  <tbody>\n",
       "    <tr>\n",
       "      <th>count</th>\n",
       "      <td>918.000000</td>\n",
       "      <td>918.000000</td>\n",
       "      <td>918.000000</td>\n",
       "      <td>918.000000</td>\n",
       "      <td>918.000000</td>\n",
       "      <td>918.000000</td>\n",
       "      <td>918.000000</td>\n",
       "    </tr>\n",
       "    <tr>\n",
       "      <th>mean</th>\n",
       "      <td>53.510893</td>\n",
       "      <td>132.396514</td>\n",
       "      <td>198.799564</td>\n",
       "      <td>0.233115</td>\n",
       "      <td>136.809368</td>\n",
       "      <td>0.887364</td>\n",
       "      <td>0.553377</td>\n",
       "    </tr>\n",
       "    <tr>\n",
       "      <th>std</th>\n",
       "      <td>9.432617</td>\n",
       "      <td>18.514154</td>\n",
       "      <td>109.384145</td>\n",
       "      <td>0.423046</td>\n",
       "      <td>25.460334</td>\n",
       "      <td>1.066570</td>\n",
       "      <td>0.497414</td>\n",
       "    </tr>\n",
       "    <tr>\n",
       "      <th>min</th>\n",
       "      <td>28.000000</td>\n",
       "      <td>0.000000</td>\n",
       "      <td>0.000000</td>\n",
       "      <td>0.000000</td>\n",
       "      <td>60.000000</td>\n",
       "      <td>-2.600000</td>\n",
       "      <td>0.000000</td>\n",
       "    </tr>\n",
       "    <tr>\n",
       "      <th>25%</th>\n",
       "      <td>47.000000</td>\n",
       "      <td>120.000000</td>\n",
       "      <td>173.250000</td>\n",
       "      <td>0.000000</td>\n",
       "      <td>120.000000</td>\n",
       "      <td>0.000000</td>\n",
       "      <td>0.000000</td>\n",
       "    </tr>\n",
       "    <tr>\n",
       "      <th>50%</th>\n",
       "      <td>54.000000</td>\n",
       "      <td>130.000000</td>\n",
       "      <td>223.000000</td>\n",
       "      <td>0.000000</td>\n",
       "      <td>138.000000</td>\n",
       "      <td>0.600000</td>\n",
       "      <td>1.000000</td>\n",
       "    </tr>\n",
       "    <tr>\n",
       "      <th>75%</th>\n",
       "      <td>60.000000</td>\n",
       "      <td>140.000000</td>\n",
       "      <td>267.000000</td>\n",
       "      <td>0.000000</td>\n",
       "      <td>156.000000</td>\n",
       "      <td>1.500000</td>\n",
       "      <td>1.000000</td>\n",
       "    </tr>\n",
       "    <tr>\n",
       "      <th>max</th>\n",
       "      <td>77.000000</td>\n",
       "      <td>200.000000</td>\n",
       "      <td>603.000000</td>\n",
       "      <td>1.000000</td>\n",
       "      <td>202.000000</td>\n",
       "      <td>6.200000</td>\n",
       "      <td>1.000000</td>\n",
       "    </tr>\n",
       "  </tbody>\n",
       "</table>\n",
       "</div>"
      ],
      "text/plain": [
       "              Age   RestingBP  Cholesterol   FastingBS       MaxHR  \\\n",
       "count  918.000000  918.000000   918.000000  918.000000  918.000000   \n",
       "mean    53.510893  132.396514   198.799564    0.233115  136.809368   \n",
       "std      9.432617   18.514154   109.384145    0.423046   25.460334   \n",
       "min     28.000000    0.000000     0.000000    0.000000   60.000000   \n",
       "25%     47.000000  120.000000   173.250000    0.000000  120.000000   \n",
       "50%     54.000000  130.000000   223.000000    0.000000  138.000000   \n",
       "75%     60.000000  140.000000   267.000000    0.000000  156.000000   \n",
       "max     77.000000  200.000000   603.000000    1.000000  202.000000   \n",
       "\n",
       "          Oldpeak  HeartDisease  \n",
       "count  918.000000    918.000000  \n",
       "mean     0.887364      0.553377  \n",
       "std      1.066570      0.497414  \n",
       "min     -2.600000      0.000000  \n",
       "25%      0.000000      0.000000  \n",
       "50%      0.600000      1.000000  \n",
       "75%      1.500000      1.000000  \n",
       "max      6.200000      1.000000  "
      ]
     },
     "execution_count": 4,
     "metadata": {},
     "output_type": "execute_result"
    }
   ],
   "source": [
    "df.describe()"
   ]
  },
  {
   "cell_type": "markdown",
   "id": "9a031522",
   "metadata": {
    "papermill": {
     "duration": 0.043689,
     "end_time": "2021-12-06T00:15:37.237497",
     "exception": false,
     "start_time": "2021-12-06T00:15:37.193808",
     "status": "completed"
    },
    "tags": []
   },
   "source": [
    "# EDA with Visulization"
   ]
  },
  {
   "cell_type": "code",
   "execution_count": 5,
   "id": "ca46280b",
   "metadata": {
    "execution": {
     "iopub.execute_input": "2021-12-06T00:15:37.330164Z",
     "iopub.status.busy": "2021-12-06T00:15:37.329222Z",
     "iopub.status.idle": "2021-12-06T00:15:37.738400Z",
     "shell.execute_reply": "2021-12-06T00:15:37.739098Z",
     "shell.execute_reply.started": "2021-12-06T00:07:59.146242Z"
    },
    "papermill": {
     "duration": 0.457871,
     "end_time": "2021-12-06T00:15:37.739306",
     "exception": false,
     "start_time": "2021-12-06T00:15:37.281435",
     "status": "completed"
    },
    "tags": []
   },
   "outputs": [
    {
     "name": "stdout",
     "output_type": "stream",
     "text": [
      "Sex\n",
      "F    21.023965\n",
      "M    78.976035\n",
      "Name: Age, dtype: float64\n"
     ]
    },
    {
     "data": {
      "image/png": "[encoded data removed]",
      "text/plain": [
       "<Figure size 432x288 with 1 Axes>"
      ]
     },
     "metadata": {
      "needs_background": "light"
     },
     "output_type": "display_data"
    }
   ],
   "source": [
    "sns.histplot(x=\"Age\",hue=\"Sex\",data=df)\n",
    "print(df.groupby(\"Sex\")[\"Age\"].count()*(100/len(df)))\n"
   ]
  },
  {
   "cell_type": "markdown",
   "id": "73121af3",
   "metadata": {
    "papermill": {
     "duration": 0.048511,
     "end_time": "2021-12-06T00:15:37.834116",
     "exception": false,
     "start_time": "2021-12-06T00:15:37.785605",
     "status": "completed"
    },
    "tags": []
   },
   "source": [
    "**78 percent of the data consists of men**"
   ]
  },
  {
   "cell_type": "code",
   "execution_count": 6,
   "id": "4e2ab811",
   "metadata": {
    "execution": {
     "iopub.execute_input": "2021-12-06T00:15:37.935079Z",
     "iopub.status.busy": "2021-12-06T00:15:37.930127Z",
     "iopub.status.idle": "2021-12-06T00:15:38.290927Z",
     "shell.execute_reply": "2021-12-06T00:15:38.290273Z",
     "shell.execute_reply.started": "2021-12-06T00:08:08.595068Z"
    },
    "papermill": {
     "duration": 0.411161,
     "end_time": "2021-12-06T00:15:38.291109",
     "exception": false,
     "start_time": "2021-12-06T00:15:37.879948",
     "status": "completed"
    },
    "tags": []
   },
   "outputs": [
    {
     "name": "stdout",
     "output_type": "stream",
     "text": [
      "Sex\n",
      "F     9.84252\n",
      "M    90.15748\n",
      "Name: Age, dtype: float64\n"
     ]
    },
    {
     "data": {
      "image/png": "[encoded data removed]",
      "text/plain": [
       "<Figure size 432x288 with 1 Axes>"
      ]
     },
     "metadata": {
      "needs_background": "light"
     },
     "output_type": "display_data"
    }
   ],
   "source": [
    "sns.histplot(x=\"Age\",hue=\"Sex\",data=df[df[\"HeartDisease\"]==1])\n",
    "print(df[df[\"HeartDisease\"]==1].groupby(\"Sex\")[\"Age\"].count()*(100/len(df[df[\"HeartDisease\"]==1])))\n"
   ]
  },
  {
   "cell_type": "markdown",
   "id": "152e433b",
   "metadata": {
    "papermill": {
     "duration": 0.046085,
     "end_time": "2021-12-06T00:15:38.384939",
     "exception": false,
     "start_time": "2021-12-06T00:15:38.338854",
     "status": "completed"
    },
    "tags": []
   },
   "source": [
    "**90 percent of the data -where \"HeartDisease\" is 1- consists of men**\n"
   ]
  },
  {
   "cell_type": "code",
   "execution_count": 7,
   "id": "fb117777",
   "metadata": {
    "execution": {
     "iopub.execute_input": "2021-12-06T00:15:38.484975Z",
     "iopub.status.busy": "2021-12-06T00:15:38.483805Z",
     "iopub.status.idle": "2021-12-06T00:15:39.026404Z",
     "shell.execute_reply": "2021-12-06T00:15:39.025798Z",
     "shell.execute_reply.started": "2021-12-06T00:08:17.745027Z"
    },
    "papermill": {
     "duration": 0.595184,
     "end_time": "2021-12-06T00:15:39.026591",
     "exception": false,
     "start_time": "2021-12-06T00:15:38.431407",
     "status": "completed"
    },
    "tags": []
   },
   "outputs": [
    {
     "data": {
      "image/png": "[encoded data removed]",
      "text/plain": [
       "<Figure size 576x576 with 2 Axes>"
      ]
     },
     "metadata": {
      "needs_background": "light"
     },
     "output_type": "display_data"
    }
   ],
   "source": [
    "plt.figure(figsize=(8,8))\n",
    "sns.heatmap(df.corr(),annot=True)\n",
    "plt.show()"
   ]
  },
  {
   "cell_type": "markdown",
   "id": "3a4b5ca2",
   "metadata": {
    "papermill": {
     "duration": 0.050458,
     "end_time": "2021-12-06T00:15:39.127187",
     "exception": false,
     "start_time": "2021-12-06T00:15:39.076729",
     "status": "completed"
    },
    "tags": []
   },
   "source": [
    "Oldpeak column has the highest positive correlation with HeartDisease\n",
    "\n",
    "MaxHR column has the highest negative correlation with HeartDisease"
   ]
  },
  {
   "cell_type": "code",
   "execution_count": 8,
   "id": "06599f91",
   "metadata": {
    "execution": {
     "iopub.execute_input": "2021-12-06T00:15:39.232662Z",
     "iopub.status.busy": "2021-12-06T00:15:39.231963Z",
     "iopub.status.idle": "2021-12-06T00:15:46.949225Z",
     "shell.execute_reply": "2021-12-06T00:15:46.949844Z",
     "shell.execute_reply.started": "2021-12-06T00:08:28.655726Z"
    },
    "papermill": {
     "duration": 7.774622,
     "end_time": "2021-12-06T00:15:46.950051",
     "exception": false,
     "start_time": "2021-12-06T00:15:39.175429",
     "status": "completed"
    },
    "tags": []
   },
   "outputs": [
    {
     "data": {
      "image/png": "[encoded data removed]",
      "text/plain": [
       "<Figure size 1155.25x360 with 1 Axes>"
      ]
     },
     "metadata": {
      "needs_background": "light"
     },
     "output_type": "display_data"
    }
   ],
   "source": [
    "sns.catplot(x=\"Age\",y=\"Cholesterol\",hue=\"HeartDisease\",data=df,aspect=3)\n",
    "plt.xlabel(\"Age\",fontsize=20)\n",
    "plt.ylabel(\"Cholesterol\",fontsize=20)\n",
    "plt.show()"
   ]
  },
  {
   "cell_type": "markdown",
   "id": "b9b93cb2",
   "metadata": {
    "papermill": {
     "duration": 0.051382,
     "end_time": "2021-12-06T00:15:47.054620",
     "exception": false,
     "start_time": "2021-12-06T00:15:47.003238",
     "status": "completed"
    },
    "tags": []
   },
   "source": [
    "    Age around 60 years are the most affected to Heart Disease. And Age doesnt affect our data on Cholesterol levels much."
   ]
  },
  {
   "cell_type": "code",
   "execution_count": 9,
   "id": "435675a7",
   "metadata": {
    "execution": {
     "iopub.execute_input": "2021-12-06T00:15:47.164455Z",
     "iopub.status.busy": "2021-12-06T00:15:47.163616Z",
     "iopub.status.idle": "2021-12-06T00:15:47.531051Z",
     "shell.execute_reply": "2021-12-06T00:15:47.530195Z",
     "shell.execute_reply.started": "2021-12-06T00:08:47.489056Z"
    },
    "papermill": {
     "duration": 0.425756,
     "end_time": "2021-12-06T00:15:47.531249",
     "exception": false,
     "start_time": "2021-12-06T00:15:47.105493",
     "status": "completed"
    },
    "tags": []
   },
   "outputs": [
    {
     "data": {
      "text/plain": [
       "<AxesSubplot:xlabel='Age', ylabel='Oldpeak'>"
      ]
     },
     "execution_count": 9,
     "metadata": {},
     "output_type": "execute_result"
    },
    {
     "data": {
      "image/png": "[encoded data removed]",
      "text/plain": [
       "<Figure size 432x288 with 1 Axes>"
      ]
     },
     "metadata": {
      "needs_background": "light"
     },
     "output_type": "display_data"
    }
   ],
   "source": [
    "sns.regplot(x=\"Age\",y=\"Oldpeak\",data=df)"
   ]
  },
  {
   "cell_type": "code",
   "execution_count": 10,
   "id": "dd374204",
   "metadata": {
    "execution": {
     "iopub.execute_input": "2021-12-06T00:15:47.644206Z",
     "iopub.status.busy": "2021-12-06T00:15:47.643412Z",
     "iopub.status.idle": "2021-12-06T00:15:48.031029Z",
     "shell.execute_reply": "2021-12-06T00:15:48.031551Z",
     "shell.execute_reply.started": "2021-12-06T00:08:51.676747Z"
    },
    "papermill": {
     "duration": 0.447028,
     "end_time": "2021-12-06T00:15:48.031769",
     "exception": false,
     "start_time": "2021-12-06T00:15:47.584741",
     "status": "completed"
    },
    "tags": []
   },
   "outputs": [
    {
     "data": {
      "text/plain": [
       "<AxesSubplot:xlabel='Age', ylabel='MaxHR'>"
      ]
     },
     "execution_count": 10,
     "metadata": {},
     "output_type": "execute_result"
    },
    {
     "data": {
      "image/png": "[encoded data removed]",
      "text/plain": [
       "<Figure size 432x288 with 1 Axes>"
      ]
     },
     "metadata": {
      "needs_background": "light"
     },
     "output_type": "display_data"
    }
   ],
   "source": [
    "sns.regplot(x=\"Age\",y=\"MaxHR\",data=df)"
   ]
  },
  {
   "cell_type": "markdown",
   "id": "e346882d",
   "metadata": {
    "papermill": {
     "duration": 0.05458,
     "end_time": "2021-12-06T00:15:48.141342",
     "exception": false,
     "start_time": "2021-12-06T00:15:48.086762",
     "status": "completed"
    },
    "tags": []
   },
   "source": [
    "According to the regplot above, Age affect MaxHR as Age increases,MaxHR decreases."
   ]
  },
  {
   "cell_type": "code",
   "execution_count": 11,
   "id": "df03531f",
   "metadata": {
    "execution": {
     "iopub.execute_input": "2021-12-06T00:15:48.257472Z",
     "iopub.status.busy": "2021-12-06T00:15:48.256391Z",
     "iopub.status.idle": "2021-12-06T00:15:48.844392Z",
     "shell.execute_reply": "2021-12-06T00:15:48.843192Z",
     "shell.execute_reply.started": "2021-12-06T00:09:02.233164Z"
    },
    "papermill": {
     "duration": 0.649643,
     "end_time": "2021-12-06T00:15:48.844546",
     "exception": false,
     "start_time": "2021-12-06T00:15:48.194903",
     "status": "completed"
    },
    "tags": []
   },
   "outputs": [
    {
     "data": {
      "text/plain": [
       "<seaborn.axisgrid.FacetGrid at 0x7fce94bd3a90>"
      ]
     },
     "execution_count": 11,
     "metadata": {},
     "output_type": "execute_result"
    },
    {
     "data": {
      "image/png": "[encoded data removed]",
      "text/plain": [
       "<Figure size 435.25x360 with 1 Axes>"
      ]
     },
     "metadata": {
      "needs_background": "light"
     },
     "output_type": "display_data"
    }
   ],
   "source": [
    "sns.displot(x=\"Oldpeak\",data=df,hue=\"HeartDisease\")"
   ]
  },
  {
   "cell_type": "markdown",
   "id": "360c6994",
   "metadata": {
    "papermill": {
     "duration": 0.054444,
     "end_time": "2021-12-06T00:15:48.953384",
     "exception": false,
     "start_time": "2021-12-06T00:15:48.898940",
     "status": "completed"
    },
    "tags": []
   },
   "source": [
    "**According to the displot above; the higher the oldpeak, the higher the ratio of yellow in the bar. (Yellow indicate 1). So, Oldpeak noticeably affects HeartDisease**"
   ]
  },
  {
   "cell_type": "markdown",
   "id": "31fa31bc",
   "metadata": {
    "papermill": {
     "duration": 0.055598,
     "end_time": "2021-12-06T00:15:49.064518",
     "exception": false,
     "start_time": "2021-12-06T00:15:49.008920",
     "status": "completed"
    },
    "tags": []
   },
   "source": [
    "# Pre-processing: Feature selection/extraction\n"
   ]
  },
  {
   "cell_type": "code",
   "execution_count": 12,
   "id": "a8c7a5ad",
   "metadata": {
    "execution": {
     "iopub.execute_input": "2021-12-06T00:15:49.185264Z",
     "iopub.status.busy": "2021-12-06T00:15:49.184468Z",
     "iopub.status.idle": "2021-12-06T00:15:49.188288Z",
     "shell.execute_reply": "2021-12-06T00:15:49.187652Z",
     "shell.execute_reply.started": "2021-12-06T00:09:35.855996Z"
    },
    "papermill": {
     "duration": 0.068341,
     "end_time": "2021-12-06T00:15:49.188488",
     "exception": false,
     "start_time": "2021-12-06T00:15:49.120147",
     "status": "completed"
    },
    "tags": []
   },
   "outputs": [],
   "source": [
    "CPT_oh = pd.get_dummies(df[\"ChestPainType\"])\n",
    "Sex_oh = pd.get_dummies(df[\"Sex\"])\n",
    "Ex_oh = pd.get_dummies(df[\"ExerciseAngina\"])\n",
    "ST_oh = pd.get_dummies(df[\"ST_Slope\"])\n",
    "rest_oh = pd.get_dummies(df[\"RestingECG\"])"
   ]
  },
  {
   "cell_type": "code",
   "execution_count": 13,
   "id": "66c18052",
   "metadata": {
    "execution": {
     "iopub.execute_input": "2021-12-06T00:15:49.305676Z",
     "iopub.status.busy": "2021-12-06T00:15:49.304906Z",
     "iopub.status.idle": "2021-12-06T00:15:49.307388Z",
     "shell.execute_reply": "2021-12-06T00:15:49.306760Z",
     "shell.execute_reply.started": "2021-12-06T00:09:38.507648Z"
    },
    "papermill": {
     "duration": 0.063505,
     "end_time": "2021-12-06T00:15:49.307557",
     "exception": false,
     "start_time": "2021-12-06T00:15:49.244052",
     "status": "completed"
    },
    "tags": []
   },
   "outputs": [],
   "source": [
    "df.drop([\"ChestPainType\",\"Sex\",\"RestingECG\",\"ExerciseAngina\",\"ST_Slope\"],axis=1,inplace=True)"
   ]
  },
  {
   "cell_type": "code",
   "execution_count": 14,
   "id": "b0c54235",
   "metadata": {
    "execution": {
     "iopub.execute_input": "2021-12-06T00:15:49.424647Z",
     "iopub.status.busy": "2021-12-06T00:15:49.423966Z",
     "iopub.status.idle": "2021-12-06T00:15:49.426328Z",
     "shell.execute_reply": "2021-12-06T00:15:49.425627Z",
     "shell.execute_reply.started": "2021-12-06T00:09:42.185430Z"
    },
    "papermill": {
     "duration": 0.063732,
     "end_time": "2021-12-06T00:15:49.426500",
     "exception": false,
     "start_time": "2021-12-06T00:15:49.362768",
     "status": "completed"
    },
    "tags": []
   },
   "outputs": [],
   "source": [
    "df = pd.concat([df,CPT_oh,Sex_oh,ST_oh,Ex_oh,rest_oh],axis=1)"
   ]
  },
  {
   "cell_type": "code",
   "execution_count": 15,
   "id": "c4083734",
   "metadata": {
    "execution": {
     "iopub.execute_input": "2021-12-06T00:15:49.541086Z",
     "iopub.status.busy": "2021-12-06T00:15:49.540300Z",
     "iopub.status.idle": "2021-12-06T00:15:49.557517Z",
     "shell.execute_reply": "2021-12-06T00:15:49.558144Z",
     "shell.execute_reply.started": "2021-12-06T00:09:47.194423Z"
    },
    "papermill": {
     "duration": 0.076663,
     "end_time": "2021-12-06T00:15:49.558336",
     "exception": false,
     "start_time": "2021-12-06T00:15:49.481673",
     "status": "completed"
    },
    "tags": []
   },
   "outputs": [
    {
     "data": {
      "text/html": [
       "<div>\n",
       "<style scoped>\n",
       "    .dataframe tbody tr th:only-of-type {\n",
       "        vertical-align: middle;\n",
       "    }\n",
       "\n",
       "    .dataframe tbody tr th {\n",
       "        vertical-align: top;\n",
       "    }\n",
       "\n",
       "    .dataframe thead th {\n",
       "        text-align: right;\n",
       "    }\n",
       "</style>\n",
       "<table border=\"1\" class=\"dataframe\">\n",
       "  <thead>\n",
       "    <tr style=\"text-align: right;\">\n",
       "      <th></th>\n",
       "      <th>Age</th>\n",
       "      <th>RestingBP</th>\n",
       "      <th>Cholesterol</th>\n",
       "      <th>FastingBS</th>\n",
       "      <th>MaxHR</th>\n",
       "      <th>Oldpeak</th>\n",
       "      <th>HeartDisease</th>\n",
       "      <th>ASY</th>\n",
       "      <th>ATA</th>\n",
       "      <th>NAP</th>\n",
       "      <th>...</th>\n",
       "      <th>F</th>\n",
       "      <th>M</th>\n",
       "      <th>Down</th>\n",
       "      <th>Flat</th>\n",
       "      <th>Up</th>\n",
       "      <th>N</th>\n",
       "      <th>Y</th>\n",
       "      <th>LVH</th>\n",
       "      <th>Normal</th>\n",
       "      <th>ST</th>\n",
       "    </tr>\n",
       "  </thead>\n",
       "  <tbody>\n",
       "    <tr>\n",
       "      <th>0</th>\n",
       "      <td>40</td>\n",
       "      <td>140</td>\n",
       "      <td>289</td>\n",
       "      <td>0</td>\n",
       "      <td>172</td>\n",
       "      <td>0.0</td>\n",
       "      <td>0</td>\n",
       "      <td>0</td>\n",
       "      <td>1</td>\n",
       "      <td>0</td>\n",
       "      <td>...</td>\n",
       "      <td>0</td>\n",
       "      <td>1</td>\n",
       "      <td>0</td>\n",
       "      <td>0</td>\n",
       "      <td>1</td>\n",
       "      <td>1</td>\n",
       "      <td>0</td>\n",
       "      <td>0</td>\n",
       "      <td>1</td>\n",
       "      <td>0</td>\n",
       "    </tr>\n",
       "    <tr>\n",
       "      <th>1</th>\n",
       "      <td>49</td>\n",
       "      <td>160</td>\n",
       "      <td>180</td>\n",
       "      <td>0</td>\n",
       "      <td>156</td>\n",
       "      <td>1.0</td>\n",
       "      <td>1</td>\n",
       "      <td>0</td>\n",
       "      <td>0</td>\n",
       "      <td>1</td>\n",
       "      <td>...</td>\n",
       "      <td>1</td>\n",
       "      <td>0</td>\n",
       "      <td>0</td>\n",
       "      <td>1</td>\n",
       "      <td>0</td>\n",
       "      <td>1</td>\n",
       "      <td>0</td>\n",
       "      <td>0</td>\n",
       "      <td>1</td>\n",
       "      <td>0</td>\n",
       "    </tr>\n",
       "    <tr>\n",
       "      <th>2</th>\n",
       "      <td>37</td>\n",
       "      <td>130</td>\n",
       "      <td>283</td>\n",
       "      <td>0</td>\n",
       "      <td>98</td>\n",
       "      <td>0.0</td>\n",
       "      <td>0</td>\n",
       "      <td>0</td>\n",
       "      <td>1</td>\n",
       "      <td>0</td>\n",
       "      <td>...</td>\n",
       "      <td>0</td>\n",
       "      <td>1</td>\n",
       "      <td>0</td>\n",
       "      <td>0</td>\n",
       "      <td>1</td>\n",
       "      <td>1</td>\n",
       "      <td>0</td>\n",
       "      <td>0</td>\n",
       "      <td>0</td>\n",
       "      <td>1</td>\n",
       "    </tr>\n",
       "    <tr>\n",
       "      <th>3</th>\n",
       "      <td>48</td>\n",
       "      <td>138</td>\n",
       "      <td>214</td>\n",
       "      <td>0</td>\n",
       "      <td>108</td>\n",
       "      <td>1.5</td>\n",
       "      <td>1</td>\n",
       "      <td>1</td>\n",
       "      <td>0</td>\n",
       "      <td>0</td>\n",
       "      <td>...</td>\n",
       "      <td>1</td>\n",
       "      <td>0</td>\n",
       "      <td>0</td>\n",
       "      <td>1</td>\n",
       "      <td>0</td>\n",
       "      <td>0</td>\n",
       "      <td>1</td>\n",
       "      <td>0</td>\n",
       "      <td>1</td>\n",
       "      <td>0</td>\n",
       "    </tr>\n",
       "    <tr>\n",
       "      <th>4</th>\n",
       "      <td>54</td>\n",
       "      <td>150</td>\n",
       "      <td>195</td>\n",
       "      <td>0</td>\n",
       "      <td>122</td>\n",
       "      <td>0.0</td>\n",
       "      <td>0</td>\n",
       "      <td>0</td>\n",
       "      <td>0</td>\n",
       "      <td>1</td>\n",
       "      <td>...</td>\n",
       "      <td>0</td>\n",
       "      <td>1</td>\n",
       "      <td>0</td>\n",
       "      <td>0</td>\n",
       "      <td>1</td>\n",
       "      <td>1</td>\n",
       "      <td>0</td>\n",
       "      <td>0</td>\n",
       "      <td>1</td>\n",
       "      <td>0</td>\n",
       "    </tr>\n",
       "  </tbody>\n",
       "</table>\n",
       "<p>5 rows × 21 columns</p>\n",
       "</div>"
      ],
      "text/plain": [
       "   Age  RestingBP  Cholesterol  FastingBS  MaxHR  Oldpeak  HeartDisease  ASY  \\\n",
       "0   40        140          289          0    172      0.0             0    0   \n",
       "1   49        160          180          0    156      1.0             1    0   \n",
       "2   37        130          283          0     98      0.0             0    0   \n",
       "3   48        138          214          0    108      1.5             1    1   \n",
       "4   54        150          195          0    122      0.0             0    0   \n",
       "\n",
       "   ATA  NAP  ...  F  M  Down  Flat  Up  N  Y  LVH  Normal  ST  \n",
       "0    1    0  ...  0  1     0     0   1  1  0    0       1   0  \n",
       "1    0    1  ...  1  0     0     1   0  1  0    0       1   0  \n",
       "2    1    0  ...  0  1     0     0   1  1  0    0       0   1  \n",
       "3    0    0  ...  1  0     0     1   0  0  1    0       1   0  \n",
       "4    0    1  ...  0  1     0     0   1  1  0    0       1   0  \n",
       "\n",
       "[5 rows x 21 columns]"
      ]
     },
     "execution_count": 15,
     "metadata": {},
     "output_type": "execute_result"
    }
   ],
   "source": [
    "df.head()"
   ]
  },
  {
   "cell_type": "code",
   "execution_count": 16,
   "id": "e2da9c84",
   "metadata": {
    "execution": {
     "iopub.execute_input": "2021-12-06T00:15:49.673525Z",
     "iopub.status.busy": "2021-12-06T00:15:49.672804Z",
     "iopub.status.idle": "2021-12-06T00:15:49.677832Z",
     "shell.execute_reply": "2021-12-06T00:15:49.678434Z",
     "shell.execute_reply.started": "2021-12-06T00:09:51.473878Z"
    },
    "papermill": {
     "duration": 0.064422,
     "end_time": "2021-12-06T00:15:49.678655",
     "exception": false,
     "start_time": "2021-12-06T00:15:49.614233",
     "status": "completed"
    },
    "tags": []
   },
   "outputs": [],
   "source": [
    "X = df.drop([\"HeartDisease\"],axis=1)\n",
    "y = df[\"HeartDisease\"]"
   ]
  },
  {
   "cell_type": "markdown",
   "id": "b915dea9",
   "metadata": {
    "papermill": {
     "duration": 0.056201,
     "end_time": "2021-12-06T00:15:49.791023",
     "exception": false,
     "start_time": "2021-12-06T00:15:49.734822",
     "status": "completed"
    },
    "tags": []
   },
   "source": [
    "### Normalize Data\n"
   ]
  },
  {
   "cell_type": "code",
   "execution_count": 17,
   "id": "65319472",
   "metadata": {
    "execution": {
     "iopub.execute_input": "2021-12-06T00:15:49.908082Z",
     "iopub.status.busy": "2021-12-06T00:15:49.907319Z",
     "iopub.status.idle": "2021-12-06T00:15:49.915413Z",
     "shell.execute_reply": "2021-12-06T00:15:49.915976Z",
     "shell.execute_reply.started": "2021-12-06T00:10:04.265450Z"
    },
    "papermill": {
     "duration": 0.067048,
     "end_time": "2021-12-06T00:15:49.916180",
     "exception": false,
     "start_time": "2021-12-06T00:15:49.849132",
     "status": "completed"
    },
    "tags": []
   },
   "outputs": [],
   "source": [
    "from sklearn import preprocessing\n",
    "X = preprocessing.StandardScaler().fit(X).transform(X)"
   ]
  },
  {
   "cell_type": "markdown",
   "id": "50eed013",
   "metadata": {
    "papermill": {
     "duration": 0.056739,
     "end_time": "2021-12-06T00:15:50.029399",
     "exception": false,
     "start_time": "2021-12-06T00:15:49.972660",
     "status": "completed"
    },
    "tags": []
   },
   "source": [
    "### Splitting Data"
   ]
  },
  {
   "cell_type": "code",
   "execution_count": 18,
   "id": "83f24330",
   "metadata": {
    "execution": {
     "iopub.execute_input": "2021-12-06T00:15:50.150798Z",
     "iopub.status.busy": "2021-12-06T00:15:50.148488Z",
     "iopub.status.idle": "2021-12-06T00:15:50.155396Z",
     "shell.execute_reply": "2021-12-06T00:15:50.156024Z",
     "shell.execute_reply.started": "2021-12-06T00:10:20.435784Z"
    },
    "papermill": {
     "duration": 0.070199,
     "end_time": "2021-12-06T00:15:50.156218",
     "exception": false,
     "start_time": "2021-12-06T00:15:50.086019",
     "status": "completed"
    },
    "tags": []
   },
   "outputs": [],
   "source": [
    "X_train, X_test, y_train, y_test = train_test_split(X,y,\n",
    "                                                    test_size=0.25,random_state=42)"
   ]
  },
  {
   "cell_type": "markdown",
   "id": "b68b774a",
   "metadata": {
    "papermill": {
     "duration": 0.054439,
     "end_time": "2021-12-06T00:15:50.266178",
     "exception": false,
     "start_time": "2021-12-06T00:15:50.211739",
     "status": "completed"
    },
    "tags": []
   },
   "source": [
    "# DATA MODELLİNG"
   ]
  },
  {
   "cell_type": "code",
   "execution_count": 19,
   "id": "48d1b694",
   "metadata": {
    "execution": {
     "iopub.execute_input": "2021-12-06T00:15:50.379341Z",
     "iopub.status.busy": "2021-12-06T00:15:50.378699Z",
     "iopub.status.idle": "2021-12-06T00:15:50.382802Z",
     "shell.execute_reply": "2021-12-06T00:15:50.383324Z",
     "shell.execute_reply.started": "2021-12-06T00:11:22.242438Z"
    },
    "papermill": {
     "duration": 0.062485,
     "end_time": "2021-12-06T00:15:50.383487",
     "exception": false,
     "start_time": "2021-12-06T00:15:50.321002",
     "status": "completed"
    },
    "tags": []
   },
   "outputs": [],
   "source": [
    "# We will use this at the final to show best algorithm with best score\n",
    "models_accuracy_scores = {}"
   ]
  },
  {
   "cell_type": "code",
   "execution_count": 20,
   "id": "54d557bd",
   "metadata": {
    "execution": {
     "iopub.execute_input": "2021-12-06T00:15:50.497138Z",
     "iopub.status.busy": "2021-12-06T00:15:50.496432Z",
     "iopub.status.idle": "2021-12-06T00:15:50.559398Z",
     "shell.execute_reply": "2021-12-06T00:15:50.559933Z",
     "shell.execute_reply.started": "2021-12-06T00:10:43.105391Z"
    },
    "papermill": {
     "duration": 0.121887,
     "end_time": "2021-12-06T00:15:50.560110",
     "exception": false,
     "start_time": "2021-12-06T00:15:50.438223",
     "status": "completed"
    },
    "tags": []
   },
   "outputs": [],
   "source": [
    "# Allows us to test parameters of classification algorithms and find the best one\n",
    "from sklearn.model_selection import GridSearchCV\n",
    "# Logistic Regression classification algorithm\n",
    "from sklearn.linear_model import LogisticRegression\n",
    "# Support Vector Machine classification algorithm\n",
    "from sklearn.svm import SVC\n",
    "# Decision Tree classification algorithm\n",
    "from sklearn.tree import DecisionTreeClassifier\n",
    "# K Nearest Neighbors classification algorithm\n",
    "from sklearn.neighbors import KNeighborsClassifier\n",
    "# Random Forest Algorithm\n",
    "from sklearn.ensemble import RandomForestClassifier\n",
    "\n",
    "from sklearn.metrics import classification_report, confusion_matrix\n",
    "from sklearn.metrics import plot_confusion_matrix\n"
   ]
  },
  {
   "cell_type": "markdown",
   "id": "2780cd73",
   "metadata": {
    "papermill": {
     "duration": 0.054666,
     "end_time": "2021-12-06T00:15:50.670247",
     "exception": false,
     "start_time": "2021-12-06T00:15:50.615581",
     "status": "completed"
    },
    "tags": []
   },
   "source": [
    "## Logistic Regression"
   ]
  },
  {
   "cell_type": "code",
   "execution_count": 21,
   "id": "727375b0",
   "metadata": {
    "execution": {
     "iopub.execute_input": "2021-12-06T00:15:50.791063Z",
     "iopub.status.busy": "2021-12-06T00:15:50.790348Z",
     "iopub.status.idle": "2021-12-06T00:15:51.135976Z",
     "shell.execute_reply": "2021-12-06T00:15:51.137414Z",
     "shell.execute_reply.started": "2021-12-06T00:11:38.271095Z"
    },
    "papermill": {
     "duration": 0.412144,
     "end_time": "2021-12-06T00:15:51.137740",
     "exception": false,
     "start_time": "2021-12-06T00:15:50.725596",
     "status": "completed"
    },
    "tags": []
   },
   "outputs": [
    {
     "data": {
      "text/plain": [
       "GridSearchCV(cv=10, estimator=LogisticRegression(),\n",
       "             param_grid={'C': [0.01, 0.1, 1], 'penalty': ['l2'],\n",
       "                         'solver': ['lbfgs']})"
      ]
     },
     "execution_count": 21,
     "metadata": {},
     "output_type": "execute_result"
    }
   ],
   "source": [
    "parameters ={\"C\":[0.01,0.1,1],'penalty':['l2'], 'solver':['lbfgs']}\n",
    "lr=LogisticRegression()\n",
    "logreg_cv = GridSearchCV(lr,parameters,cv=10) \n",
    "logreg_cv.fit(X_train,y_train)"
   ]
  },
  {
   "cell_type": "code",
   "execution_count": 22,
   "id": "8766951f",
   "metadata": {
    "execution": {
     "iopub.execute_input": "2021-12-06T00:15:51.303830Z",
     "iopub.status.busy": "2021-12-06T00:15:51.303081Z",
     "iopub.status.idle": "2021-12-06T00:15:51.306461Z",
     "shell.execute_reply": "2021-12-06T00:15:51.307318Z",
     "shell.execute_reply.started": "2021-12-06T00:11:41.645151Z"
    },
    "papermill": {
     "duration": 0.064102,
     "end_time": "2021-12-06T00:15:51.307537",
     "exception": false,
     "start_time": "2021-12-06T00:15:51.243435",
     "status": "completed"
    },
    "tags": []
   },
   "outputs": [
    {
     "name": "stdout",
     "output_type": "stream",
     "text": [
      "tuned hpyerparameters :(best parameters)  {'C': 0.1, 'penalty': 'l2', 'solver': 'lbfgs'}\n",
      "accuracy : 0.8633205456095482\n"
     ]
    }
   ],
   "source": [
    "print(\"tuned hpyerparameters :(best parameters) \",logreg_cv.best_params_)\n",
    "print(\"accuracy :\",logreg_cv.best_score_)"
   ]
  },
  {
   "cell_type": "code",
   "execution_count": 23,
   "id": "bb19009a",
   "metadata": {
    "execution": {
     "iopub.execute_input": "2021-12-06T00:15:51.423192Z",
     "iopub.status.busy": "2021-12-06T00:15:51.422586Z",
     "iopub.status.idle": "2021-12-06T00:15:51.426192Z",
     "shell.execute_reply": "2021-12-06T00:15:51.426706Z",
     "shell.execute_reply.started": "2021-12-06T00:11:43.845975Z"
    },
    "papermill": {
     "duration": 0.062727,
     "end_time": "2021-12-06T00:15:51.426864",
     "exception": false,
     "start_time": "2021-12-06T00:15:51.364137",
     "status": "completed"
    },
    "tags": []
   },
   "outputs": [],
   "source": [
    "y_hat = logreg_cv.predict(X_test)\n"
   ]
  },
  {
   "cell_type": "code",
   "execution_count": 24,
   "id": "badcb391",
   "metadata": {
    "execution": {
     "iopub.execute_input": "2021-12-06T00:15:51.541915Z",
     "iopub.status.busy": "2021-12-06T00:15:51.541277Z",
     "iopub.status.idle": "2021-12-06T00:15:51.775770Z",
     "shell.execute_reply": "2021-12-06T00:15:51.776235Z",
     "shell.execute_reply.started": "2021-12-06T00:12:10.905487Z"
    },
    "papermill": {
     "duration": 0.293503,
     "end_time": "2021-12-06T00:15:51.776413",
     "exception": false,
     "start_time": "2021-12-06T00:15:51.482910",
     "status": "completed"
    },
    "tags": []
   },
   "outputs": [
    {
     "name": "stdout",
     "output_type": "stream",
     "text": [
      "              precision    recall  f1-score   support\n",
      "\n",
      "           0       0.82      0.88      0.85        98\n",
      "           1       0.90      0.86      0.88       132\n",
      "\n",
      "    accuracy                           0.87       230\n",
      "   macro avg       0.86      0.87      0.86       230\n",
      "weighted avg       0.87      0.87      0.87       230\n",
      "\n"
     ]
    },
    {
     "data": {
      "text/plain": [
       "<sklearn.metrics._plot.confusion_matrix.ConfusionMatrixDisplay at 0x7fce94b57ad0>"
      ]
     },
     "execution_count": 24,
     "metadata": {},
     "output_type": "execute_result"
    },
    {
     "data": {
      "image/png": "[encoded data removed]",
      "text/plain": [
       "<Figure size 432x288 with 2 Axes>"
      ]
     },
     "metadata": {
      "needs_background": "light"
     },
     "output_type": "display_data"
    }
   ],
   "source": [
    "print(classification_report(y_test,y_hat))\n",
    "plot_confusion_matrix(logreg_cv, X_test, y_test,cmap=\"binary\") \n"
   ]
  },
  {
   "cell_type": "code",
   "execution_count": 25,
   "id": "7fa4e192",
   "metadata": {
    "execution": {
     "iopub.execute_input": "2021-12-06T00:15:51.894578Z",
     "iopub.status.busy": "2021-12-06T00:15:51.893894Z",
     "iopub.status.idle": "2021-12-06T00:15:51.901364Z",
     "shell.execute_reply": "2021-12-06T00:15:51.901897Z",
     "shell.execute_reply.started": "2021-12-06T00:12:13.445860Z"
    },
    "papermill": {
     "duration": 0.067593,
     "end_time": "2021-12-06T00:15:51.902074",
     "exception": false,
     "start_time": "2021-12-06T00:15:51.834481",
     "status": "completed"
    },
    "tags": []
   },
   "outputs": [],
   "source": [
    "logreg_f1 = f1_score(y_test,y_hat,average=\"weighted\")\n",
    "logreg_accuracy = logreg_cv.score(X_test,y_test)\n",
    "logreg_recall = recall_score(y_test,y_hat,average=\"binary\")\n",
    "models_accuracy_scores[\"Logistic Regression\"] = [logreg_f1,logreg_accuracy,logreg_recall]\n"
   ]
  },
  {
   "cell_type": "markdown",
   "id": "a733817a",
   "metadata": {
    "papermill": {
     "duration": 0.058299,
     "end_time": "2021-12-06T00:15:52.017933",
     "exception": false,
     "start_time": "2021-12-06T00:15:51.959634",
     "status": "completed"
    },
    "tags": []
   },
   "source": [
    "## K-Nearest Neighbors Classifier"
   ]
  },
  {
   "cell_type": "markdown",
   "id": "db144f17",
   "metadata": {
    "papermill": {
     "duration": 0.056476,
     "end_time": "2021-12-06T00:15:52.136083",
     "exception": false,
     "start_time": "2021-12-06T00:15:52.079607",
     "status": "completed"
    },
    "tags": []
   },
   "source": [
    "#### Finding Best K"
   ]
  },
  {
   "cell_type": "code",
   "execution_count": 26,
   "id": "69c47218",
   "metadata": {
    "execution": {
     "iopub.execute_input": "2021-12-06T00:15:52.253558Z",
     "iopub.status.busy": "2021-12-06T00:15:52.252910Z",
     "iopub.status.idle": "2021-12-06T00:15:52.983762Z",
     "shell.execute_reply": "2021-12-06T00:15:52.983088Z",
     "shell.execute_reply.started": "2021-12-06T00:12:41.223775Z"
    },
    "papermill": {
     "duration": 0.790718,
     "end_time": "2021-12-06T00:15:52.983908",
     "exception": false,
     "start_time": "2021-12-06T00:15:52.193190",
     "status": "completed"
    },
    "tags": []
   },
   "outputs": [
    {
     "data": {
      "text/plain": [
       "array([0.80869565, 0.78695652, 0.84782609, 0.83913043, 0.86521739,\n",
       "       0.84347826, 0.86086957, 0.85652174, 0.86521739, 0.85652174,\n",
       "       0.86521739, 0.87391304, 0.87391304, 0.86521739, 0.86956522,\n",
       "       0.86956522, 0.87391304, 0.86521739, 0.8826087 , 0.8826087 ,\n",
       "       0.8826087 , 0.87391304, 0.87826087, 0.87826087, 0.86956522,\n",
       "       0.87826087, 0.87391304, 0.86521739, 0.86956522, 0.86956522,\n",
       "       0.86956522, 0.87391304, 0.87826087, 0.86956522, 0.87391304,\n",
       "       0.86086957, 0.86086957, 0.86086957, 0.86086957])"
      ]
     },
     "execution_count": 26,
     "metadata": {},
     "output_type": "execute_result"
    }
   ],
   "source": [
    "from sklearn.neighbors import KNeighborsClassifier\n",
    "from sklearn.model_selection import train_test_split\n",
    "import numpy as np\n",
    "from sklearn import metrics\n",
    "Ks = 40\n",
    "mean_acc = np.zeros((Ks-1))\n",
    "std_acc = np.zeros((Ks-1))\n",
    "\n",
    "for n in range(1,Ks):\n",
    "    \n",
    "    #Train Model and Predict  \n",
    "    kNN = KNeighborsClassifier(n_neighbors = n).fit(X_train,y_train)\n",
    "    yhat=kNN.predict(X_test)\n",
    "    mean_acc[n-1] = metrics.accuracy_score(y_test, yhat)\n",
    "\n",
    "    \n",
    "    std_acc[n-1]=np.std(yhat==y_test)/np.sqrt(yhat.shape[0])\n",
    "\n",
    "mean_acc"
   ]
  },
  {
   "cell_type": "code",
   "execution_count": 27,
   "id": "7b8167d0",
   "metadata": {
    "execution": {
     "iopub.execute_input": "2021-12-06T00:15:53.135789Z",
     "iopub.status.busy": "2021-12-06T00:15:53.128011Z",
     "iopub.status.idle": "2021-12-06T00:15:53.401831Z",
     "shell.execute_reply": "2021-12-06T00:15:53.401171Z",
     "shell.execute_reply.started": "2021-12-06T00:12:46.886941Z"
    },
    "papermill": {
     "duration": 0.360509,
     "end_time": "2021-12-06T00:15:53.401973",
     "exception": false,
     "start_time": "2021-12-06T00:15:53.041464",
     "status": "completed"
    },
    "tags": []
   },
   "outputs": [
    {
     "data": {
      "image/png": "[encoded data removed]",
      "text/plain": [
       "<Figure size 432x288 with 1 Axes>"
      ]
     },
     "metadata": {
      "needs_background": "light"
     },
     "output_type": "display_data"
    }
   ],
   "source": [
    "plt.plot(range(1,Ks),mean_acc,'g')\n",
    "plt.fill_between(range(1,Ks),mean_acc - 1 * std_acc,mean_acc + 1 * std_acc, alpha=0.10)\n",
    "plt.fill_between(range(1,Ks),mean_acc - 3 * std_acc,mean_acc + 3 * std_acc, alpha=0.10,color=\"green\")\n",
    "plt.legend(('Accuracy ', '+/- 1xstd','+/- 3xstd'))\n",
    "plt.ylabel('Accuracy ')\n",
    "plt.xlabel('Number of Neighbors (K)')\n",
    "plt.tight_layout()\n",
    "plt.show()"
   ]
  },
  {
   "cell_type": "code",
   "execution_count": 28,
   "id": "f2deb126",
   "metadata": {
    "execution": {
     "iopub.execute_input": "2021-12-06T00:15:53.526131Z",
     "iopub.status.busy": "2021-12-06T00:15:53.525483Z",
     "iopub.status.idle": "2021-12-06T00:15:53.569143Z",
     "shell.execute_reply": "2021-12-06T00:15:53.568192Z",
     "shell.execute_reply.started": "2021-12-06T00:12:50.412414Z"
    },
    "papermill": {
     "duration": 0.108853,
     "end_time": "2021-12-06T00:15:53.569358",
     "exception": false,
     "start_time": "2021-12-06T00:15:53.460505",
     "status": "completed"
    },
    "tags": []
   },
   "outputs": [
    {
     "name": "stdout",
     "output_type": "stream",
     "text": [
      "0.8652173913043478\n",
      "0.8608695652173913\n"
     ]
    }
   ],
   "source": [
    "kNN = KNeighborsClassifier(n_neighbors = 28).fit(X_train,y_train)\n",
    "y_hat = kNN.predict(X_test)\n",
    "print(kNN.score(X_test,y_test))\n",
    "print(metrics.accuracy_score(y_test, yhat))\n",
    "    \n",
    "\n"
   ]
  },
  {
   "cell_type": "code",
   "execution_count": 29,
   "id": "615e6587",
   "metadata": {
    "execution": {
     "iopub.execute_input": "2021-12-06T00:15:53.698756Z",
     "iopub.status.busy": "2021-12-06T00:15:53.696254Z",
     "iopub.status.idle": "2021-12-06T00:15:54.132420Z",
     "shell.execute_reply": "2021-12-06T00:15:54.131658Z",
     "shell.execute_reply.started": "2021-12-06T00:13:06.247495Z"
    },
    "papermill": {
     "duration": 0.502498,
     "end_time": "2021-12-06T00:15:54.132604",
     "exception": false,
     "start_time": "2021-12-06T00:15:53.630106",
     "status": "completed"
    },
    "tags": []
   },
   "outputs": [
    {
     "name": "stdout",
     "output_type": "stream",
     "text": [
      "              precision    recall  f1-score   support\n",
      "\n",
      "           0       0.82      0.88      0.85        98\n",
      "           1       0.90      0.86      0.88       132\n",
      "\n",
      "    accuracy                           0.87       230\n",
      "   macro avg       0.86      0.87      0.86       230\n",
      "weighted avg       0.87      0.87      0.87       230\n",
      "\n"
     ]
    },
    {
     "data": {
      "text/plain": [
       "<sklearn.metrics._plot.confusion_matrix.ConfusionMatrixDisplay at 0x7fce94b4f610>"
      ]
     },
     "execution_count": 29,
     "metadata": {},
     "output_type": "execute_result"
    },
    {
     "data": {
      "image/png": "[encoded data removed]",
      "text/plain": [
       "<Figure size 432x288 with 2 Axes>"
      ]
     },
     "metadata": {
      "needs_background": "light"
     },
     "output_type": "display_data"
    }
   ],
   "source": [
    "kNN = KNeighborsClassifier(n_neighbors = 28).fit(X_train,y_train)\n",
    "y_hat = kNN.predict(X_test)\n",
    "print(classification_report(y_test,y_hat))\n",
    "plot_confusion_matrix(kNN, X_test, y_test,cmap=\"binary\") \n",
    "    "
   ]
  },
  {
   "cell_type": "code",
   "execution_count": 30,
   "id": "9e65bfbd",
   "metadata": {
    "execution": {
     "iopub.execute_input": "2021-12-06T00:15:54.278332Z",
     "iopub.status.busy": "2021-12-06T00:15:54.277639Z",
     "iopub.status.idle": "2021-12-06T00:15:54.301703Z",
     "shell.execute_reply": "2021-12-06T00:15:54.301098Z",
     "shell.execute_reply.started": "2021-12-06T00:13:16.176473Z"
    },
    "papermill": {
     "duration": 0.09107,
     "end_time": "2021-12-06T00:15:54.301862",
     "exception": false,
     "start_time": "2021-12-06T00:15:54.210792",
     "status": "completed"
    },
    "tags": []
   },
   "outputs": [],
   "source": [
    "kNN_f1 = f1_score(y_test,y_hat,average=\"weighted\")\n",
    "kNN_accuracy = kNN.score(X_test,y_test)\n",
    "kNN_recall = recall_score(y_test,y_hat,average=\"binary\")\n",
    "models_accuracy_scores[\"K-Nearest Neighbors\"] = [kNN_f1,kNN_accuracy,kNN_recall]"
   ]
  },
  {
   "cell_type": "markdown",
   "id": "3c7f54cd",
   "metadata": {
    "papermill": {
     "duration": 0.059925,
     "end_time": "2021-12-06T00:15:54.422346",
     "exception": false,
     "start_time": "2021-12-06T00:15:54.362421",
     "status": "completed"
    },
    "tags": []
   },
   "source": [
    "## Decision Tree Classifier"
   ]
  },
  {
   "cell_type": "code",
   "execution_count": 31,
   "id": "5173071f",
   "metadata": {
    "execution": {
     "iopub.execute_input": "2021-12-06T00:15:54.549609Z",
     "iopub.status.busy": "2021-12-06T00:15:54.548930Z",
     "iopub.status.idle": "2021-12-06T00:15:54.552050Z",
     "shell.execute_reply": "2021-12-06T00:15:54.551451Z",
     "shell.execute_reply.started": "2021-12-06T00:13:25.673152Z"
    },
    "papermill": {
     "duration": 0.069395,
     "end_time": "2021-12-06T00:15:54.552212",
     "exception": false,
     "start_time": "2021-12-06T00:15:54.482817",
     "status": "completed"
    },
    "tags": []
   },
   "outputs": [],
   "source": [
    "parameters = {'criterion': ['gini', 'entropy'],\n",
    "     'splitter': ['best', 'random'],\n",
    "     'max_depth': [2*n for n in range(1,10)],\n",
    "     'max_features': ['auto', 'sqrt'],\n",
    "     'min_samples_leaf': [1, 2, 4],\n",
    "     'min_samples_split': [2, 5, 10]}"
   ]
  },
  {
   "cell_type": "code",
   "execution_count": 32,
   "id": "906201b1",
   "metadata": {
    "execution": {
     "iopub.execute_input": "2021-12-06T00:15:54.686261Z",
     "iopub.status.busy": "2021-12-06T00:15:54.685558Z",
     "iopub.status.idle": "2021-12-06T00:16:07.484730Z",
     "shell.execute_reply": "2021-12-06T00:16:07.485284Z",
     "shell.execute_reply.started": "2021-12-06T00:13:30.447286Z"
    },
    "papermill": {
     "duration": 12.871617,
     "end_time": "2021-12-06T00:16:07.485483",
     "exception": false,
     "start_time": "2021-12-06T00:15:54.613866",
     "status": "completed"
    },
    "tags": []
   },
   "outputs": [
    {
     "data": {
      "text/plain": [
       "GridSearchCV(cv=10, estimator=DecisionTreeClassifier(),\n",
       "             param_grid={'criterion': ['gini', 'entropy'],\n",
       "                         'max_depth': [2, 4, 6, 8, 10, 12, 14, 16, 18],\n",
       "                         'max_features': ['auto', 'sqrt'],\n",
       "                         'min_samples_leaf': [1, 2, 4],\n",
       "                         'min_samples_split': [2, 5, 10],\n",
       "                         'splitter': ['best', 'random']})"
      ]
     },
     "execution_count": 32,
     "metadata": {},
     "output_type": "execute_result"
    }
   ],
   "source": [
    "tree = DecisionTreeClassifier()\n",
    "tree_cv = GridSearchCV(tree,parameters,cv=10)\n",
    "tree_cv.fit(X_train,y_train)"
   ]
  },
  {
   "cell_type": "code",
   "execution_count": 33,
   "id": "67ffb3d9",
   "metadata": {
    "execution": {
     "iopub.execute_input": "2021-12-06T00:16:07.613310Z",
     "iopub.status.busy": "2021-12-06T00:16:07.612668Z",
     "iopub.status.idle": "2021-12-06T00:16:07.617221Z",
     "shell.execute_reply": "2021-12-06T00:16:07.618035Z",
     "shell.execute_reply.started": "2021-12-06T00:13:43.204402Z"
    },
    "papermill": {
     "duration": 0.071734,
     "end_time": "2021-12-06T00:16:07.618278",
     "exception": false,
     "start_time": "2021-12-06T00:16:07.546544",
     "status": "completed"
    },
    "tags": []
   },
   "outputs": [
    {
     "name": "stdout",
     "output_type": "stream",
     "text": [
      "tuned hpyerparameters :(best parameters)  {'criterion': 'gini', 'max_depth': 16, 'max_features': 'auto', 'min_samples_leaf': 4, 'min_samples_split': 2, 'splitter': 'random'}\n",
      "accuracy : 0.8546462063086103\n"
     ]
    }
   ],
   "source": [
    "print(\"tuned hpyerparameters :(best parameters) \",tree_cv.best_params_)\n",
    "print(\"accuracy :\",tree_cv.best_score_)"
   ]
  },
  {
   "cell_type": "code",
   "execution_count": 34,
   "id": "39c51734",
   "metadata": {
    "execution": {
     "iopub.execute_input": "2021-12-06T00:16:07.753166Z",
     "iopub.status.busy": "2021-12-06T00:16:07.752432Z",
     "iopub.status.idle": "2021-12-06T00:16:08.000824Z",
     "shell.execute_reply": "2021-12-06T00:16:08.000135Z",
     "shell.execute_reply.started": "2021-12-06T00:13:43.212417Z"
    },
    "papermill": {
     "duration": 0.316029,
     "end_time": "2021-12-06T00:16:08.000966",
     "exception": false,
     "start_time": "2021-12-06T00:16:07.684937",
     "status": "completed"
    },
    "tags": []
   },
   "outputs": [
    {
     "name": "stdout",
     "output_type": "stream",
     "text": [
      "              precision    recall  f1-score   support\n",
      "\n",
      "           0       0.79      0.87      0.83        98\n",
      "           1       0.89      0.83      0.86       132\n",
      "\n",
      "    accuracy                           0.85       230\n",
      "   macro avg       0.84      0.85      0.85       230\n",
      "weighted avg       0.85      0.85      0.85       230\n",
      "\n"
     ]
    },
    {
     "data": {
      "text/plain": [
       "<sklearn.metrics._plot.confusion_matrix.ConfusionMatrixDisplay at 0x7fce96a98b50>"
      ]
     },
     "execution_count": 34,
     "metadata": {},
     "output_type": "execute_result"
    },
    {
     "data": {
      "image/png": "[encoded data removed]",
      "text/plain": [
       "<Figure size 432x288 with 2 Axes>"
      ]
     },
     "metadata": {
      "needs_background": "light"
     },
     "output_type": "display_data"
    }
   ],
   "source": [
    "y_hat = tree_cv.predict(X_test)\n",
    "print(classification_report(y_test,y_hat))\n",
    "plot_confusion_matrix(tree_cv, X_test, y_test,cmap=\"binary\") "
   ]
  },
  {
   "cell_type": "code",
   "execution_count": 35,
   "id": "82ba3ed5",
   "metadata": {
    "execution": {
     "iopub.execute_input": "2021-12-06T00:16:08.130471Z",
     "iopub.status.busy": "2021-12-06T00:16:08.129814Z",
     "iopub.status.idle": "2021-12-06T00:16:08.137825Z",
     "shell.execute_reply": "2021-12-06T00:16:08.138357Z",
     "shell.execute_reply.started": "2021-12-06T00:13:43.455151Z"
    },
    "papermill": {
     "duration": 0.074188,
     "end_time": "2021-12-06T00:16:08.138535",
     "exception": false,
     "start_time": "2021-12-06T00:16:08.064347",
     "status": "completed"
    },
    "tags": []
   },
   "outputs": [],
   "source": [
    "tree_f1 = f1_score(y_test,y_hat,average=\"weighted\")\n",
    "tree_accuracy = tree_cv.score(X_test,y_test)\n",
    "tree_recall = recall_score(y_test,y_hat,average=\"binary\")\n",
    "models_accuracy_scores[\"Decision Tree Classifier\"] = [tree_f1,tree_accuracy,tree_recall]"
   ]
  },
  {
   "cell_type": "markdown",
   "id": "3a3ba7d9",
   "metadata": {
    "papermill": {
     "duration": 0.062019,
     "end_time": "2021-12-06T00:16:08.263456",
     "exception": false,
     "start_time": "2021-12-06T00:16:08.201437",
     "status": "completed"
    },
    "tags": []
   },
   "source": [
    "## Random Forest Classifier"
   ]
  },
  {
   "cell_type": "code",
   "execution_count": 36,
   "id": "56953f7f",
   "metadata": {
    "execution": {
     "iopub.execute_input": "2021-12-06T00:16:08.401319Z",
     "iopub.status.busy": "2021-12-06T00:16:08.394865Z",
     "iopub.status.idle": "2021-12-06T00:16:09.732983Z",
     "shell.execute_reply": "2021-12-06T00:16:09.733504Z",
     "shell.execute_reply.started": "2021-12-06T00:13:51.193417Z"
    },
    "papermill": {
     "duration": 1.407816,
     "end_time": "2021-12-06T00:16:09.733736",
     "exception": false,
     "start_time": "2021-12-06T00:16:08.325920",
     "status": "completed"
    },
    "tags": []
   },
   "outputs": [
    {
     "data": {
      "text/plain": [
       "RandomForestClassifier(max_features='sqrt', n_estimators=400, n_jobs=-1,\n",
       "                       random_state=0)"
      ]
     },
     "execution_count": 36,
     "metadata": {},
     "output_type": "execute_result"
    }
   ],
   "source": [
    "rfc=RandomForestClassifier(n_estimators=400,random_state = 0,max_features='sqrt',n_jobs=-1)\n",
    "rfc.fit(X_train,y_train)"
   ]
  },
  {
   "cell_type": "code",
   "execution_count": 37,
   "id": "083bef0d",
   "metadata": {
    "execution": {
     "iopub.execute_input": "2021-12-06T00:16:09.884629Z",
     "iopub.status.busy": "2021-12-06T00:16:09.883271Z",
     "iopub.status.idle": "2021-12-06T00:16:10.540917Z",
     "shell.execute_reply": "2021-12-06T00:16:10.541410Z",
     "shell.execute_reply.started": "2021-12-06T00:13:53.545612Z"
    },
    "papermill": {
     "duration": 0.744196,
     "end_time": "2021-12-06T00:16:10.541633",
     "exception": false,
     "start_time": "2021-12-06T00:16:09.797437",
     "status": "completed"
    },
    "tags": []
   },
   "outputs": [
    {
     "name": "stdout",
     "output_type": "stream",
     "text": [
      "              precision    recall  f1-score   support\n",
      "\n",
      "           0       0.85      0.90      0.87        98\n",
      "           1       0.92      0.88      0.90       132\n",
      "\n",
      "    accuracy                           0.89       230\n",
      "   macro avg       0.88      0.89      0.89       230\n",
      "weighted avg       0.89      0.89      0.89       230\n",
      "\n"
     ]
    },
    {
     "data": {
      "text/plain": [
       "<sklearn.metrics._plot.confusion_matrix.ConfusionMatrixDisplay at 0x7fce9683b6d0>"
      ]
     },
     "execution_count": 37,
     "metadata": {},
     "output_type": "execute_result"
    },
    {
     "data": {
      "image/png": "[encoded data removed]",
      "text/plain": [
       "<Figure size 432x288 with 2 Axes>"
      ]
     },
     "metadata": {
      "needs_background": "light"
     },
     "output_type": "display_data"
    }
   ],
   "source": [
    "y_hat = rfc.predict(X_test)\n",
    "print(classification_report(y_test,y_hat))\n",
    "plot_confusion_matrix(rfc, X_test, y_test,cmap=\"binary\") "
   ]
  },
  {
   "cell_type": "code",
   "execution_count": 38,
   "id": "9cc67b32",
   "metadata": {
    "execution": {
     "iopub.execute_input": "2021-12-06T00:16:10.685404Z",
     "iopub.status.busy": "2021-12-06T00:16:10.684769Z",
     "iopub.status.idle": "2021-12-06T00:16:10.794155Z",
     "shell.execute_reply": "2021-12-06T00:16:10.793434Z",
     "shell.execute_reply.started": "2021-12-06T00:13:56.747191Z"
    },
    "papermill": {
     "duration": 0.188447,
     "end_time": "2021-12-06T00:16:10.794303",
     "exception": false,
     "start_time": "2021-12-06T00:16:10.605856",
     "status": "completed"
    },
    "tags": []
   },
   "outputs": [],
   "source": [
    "rfc_f1 = f1_score(y_test,y_hat,average=\"weighted\")\n",
    "rfc_accuracy = rfc.score(X_test,y_test)\n",
    "rfc_recall = recall_score(y_test,y_hat,average=\"binary\")\n",
    "models_accuracy_scores[\"Random Forest Classifier\"] = [rfc_f1,rfc_accuracy,rfc_recall]"
   ]
  },
  {
   "cell_type": "markdown",
   "id": "7dd91a65",
   "metadata": {
    "papermill": {
     "duration": 0.063769,
     "end_time": "2021-12-06T00:16:10.922377",
     "exception": false,
     "start_time": "2021-12-06T00:16:10.858608",
     "status": "completed"
    },
    "tags": []
   },
   "source": [
    "## EVALUATION PART"
   ]
  },
  {
   "cell_type": "code",
   "execution_count": 39,
   "id": "c4c4c7ad",
   "metadata": {
    "execution": {
     "iopub.execute_input": "2021-12-06T00:16:11.054765Z",
     "iopub.status.busy": "2021-12-06T00:16:11.053811Z",
     "iopub.status.idle": "2021-12-06T00:16:11.059706Z",
     "shell.execute_reply": "2021-12-06T00:16:11.060263Z",
     "shell.execute_reply.started": "2021-12-06T00:14:05.799333Z"
    },
    "papermill": {
     "duration": 0.074189,
     "end_time": "2021-12-06T00:16:11.060438",
     "exception": false,
     "start_time": "2021-12-06T00:16:10.986249",
     "status": "completed"
    },
    "tags": []
   },
   "outputs": [],
   "source": [
    "names = [\"F1-Score\",\"Accuracy\",\"Recall\"]\n",
    "df_scores = pd.DataFrame(models_accuracy_scores.values(),columns = names,index=models_accuracy_scores.keys())"
   ]
  },
  {
   "cell_type": "code",
   "execution_count": 40,
   "id": "f7ea45e8",
   "metadata": {
    "execution": {
     "iopub.execute_input": "2021-12-06T00:16:11.192714Z",
     "iopub.status.busy": "2021-12-06T00:16:11.191702Z",
     "iopub.status.idle": "2021-12-06T00:16:11.382271Z",
     "shell.execute_reply": "2021-12-06T00:16:11.381730Z",
     "shell.execute_reply.started": "2021-12-06T00:14:08.855658Z"
    },
    "papermill": {
     "duration": 0.257683,
     "end_time": "2021-12-06T00:16:11.382412",
     "exception": false,
     "start_time": "2021-12-06T00:16:11.124729",
     "status": "completed"
    },
    "tags": []
   },
   "outputs": [
    {
     "data": {
      "image/png": "[encoded data removed]",
      "text/plain": [
       "<Figure size 720x360 with 1 Axes>"
      ]
     },
     "metadata": {
      "needs_background": "light"
     },
     "output_type": "display_data"
    }
   ],
   "source": [
    "fig = plt.figure(figsize = (10, 5))\n",
    "# creating the bar plot\n",
    "sns.barplot(y=df_scores[\"Accuracy\"],x=df_scores.index)\n",
    " \n",
    "plt.xlabel(\"Methods\")\n",
    "plt.ylabel(\"Accuracy\")\n",
    "plt.title(\"Best Perfomed Method\")\n",
    "\n",
    "plt.show()"
   ]
  },
  {
   "cell_type": "code",
   "execution_count": 41,
   "id": "7ce8fea4",
   "metadata": {
    "execution": {
     "iopub.execute_input": "2021-12-06T00:16:11.517782Z",
     "iopub.status.busy": "2021-12-06T00:16:11.516819Z",
     "iopub.status.idle": "2021-12-06T00:16:11.526963Z",
     "shell.execute_reply": "2021-12-06T00:16:11.527558Z",
     "shell.execute_reply.started": "2021-12-06T00:14:12.494829Z"
    },
    "papermill": {
     "duration": 0.0799,
     "end_time": "2021-12-06T00:16:11.527747",
     "exception": false,
     "start_time": "2021-12-06T00:16:11.447847",
     "status": "completed"
    },
    "tags": []
   },
   "outputs": [
    {
     "data": {
      "text/html": [
       "<div>\n",
       "<style scoped>\n",
       "    .dataframe tbody tr th:only-of-type {\n",
       "        vertical-align: middle;\n",
       "    }\n",
       "\n",
       "    .dataframe tbody tr th {\n",
       "        vertical-align: top;\n",
       "    }\n",
       "\n",
       "    .dataframe thead th {\n",
       "        text-align: right;\n",
       "    }\n",
       "</style>\n",
       "<table border=\"1\" class=\"dataframe\">\n",
       "  <thead>\n",
       "    <tr style=\"text-align: right;\">\n",
       "      <th></th>\n",
       "      <th>F1-Score</th>\n",
       "      <th>Accuracy</th>\n",
       "      <th>Recall</th>\n",
       "    </tr>\n",
       "  </thead>\n",
       "  <tbody>\n",
       "    <tr>\n",
       "      <th>Logistic Regression</th>\n",
       "      <td>0.865706</td>\n",
       "      <td>0.865217</td>\n",
       "      <td>0.856061</td>\n",
       "    </tr>\n",
       "    <tr>\n",
       "      <th>K-Nearest Neighbors</th>\n",
       "      <td>0.865706</td>\n",
       "      <td>0.865217</td>\n",
       "      <td>0.856061</td>\n",
       "    </tr>\n",
       "    <tr>\n",
       "      <th>Decision Tree Classifier</th>\n",
       "      <td>0.848481</td>\n",
       "      <td>0.847826</td>\n",
       "      <td>0.833333</td>\n",
       "    </tr>\n",
       "    <tr>\n",
       "      <th>Random Forest Classifier</th>\n",
       "      <td>0.887321</td>\n",
       "      <td>0.886957</td>\n",
       "      <td>0.878788</td>\n",
       "    </tr>\n",
       "  </tbody>\n",
       "</table>\n",
       "</div>"
      ],
      "text/plain": [
       "                          F1-Score  Accuracy    Recall\n",
       "Logistic Regression       0.865706  0.865217  0.856061\n",
       "K-Nearest Neighbors       0.865706  0.865217  0.856061\n",
       "Decision Tree Classifier  0.848481  0.847826  0.833333\n",
       "Random Forest Classifier  0.887321  0.886957  0.878788"
      ]
     },
     "execution_count": 41,
     "metadata": {},
     "output_type": "execute_result"
    }
   ],
   "source": [
    "df_scores"
   ]
  },
  {
   "cell_type": "code",
   "execution_count": 42,
   "id": "7bc61154",
   "metadata": {
    "execution": {
     "iopub.execute_input": "2021-12-06T00:16:11.663596Z",
     "iopub.status.busy": "2021-12-06T00:16:11.662539Z",
     "iopub.status.idle": "2021-12-06T00:16:11.674658Z",
     "shell.execute_reply": "2021-12-06T00:16:11.674057Z",
     "shell.execute_reply.started": "2021-12-06T00:14:15.739212Z"
    },
    "papermill": {
     "duration": 0.081717,
     "end_time": "2021-12-06T00:16:11.674812",
     "exception": false,
     "start_time": "2021-12-06T00:16:11.593095",
     "status": "completed"
    },
    "tags": []
   },
   "outputs": [
    {
     "data": {
      "text/html": [
       "<div>\n",
       "<style scoped>\n",
       "    .dataframe tbody tr th:only-of-type {\n",
       "        vertical-align: middle;\n",
       "    }\n",
       "\n",
       "    .dataframe tbody tr th {\n",
       "        vertical-align: top;\n",
       "    }\n",
       "\n",
       "    .dataframe thead th {\n",
       "        text-align: right;\n",
       "    }\n",
       "</style>\n",
       "<table border=\"1\" class=\"dataframe\">\n",
       "  <thead>\n",
       "    <tr style=\"text-align: right;\">\n",
       "      <th></th>\n",
       "      <th>F1-Score</th>\n",
       "      <th>Accuracy</th>\n",
       "      <th>Recall</th>\n",
       "    </tr>\n",
       "  </thead>\n",
       "  <tbody>\n",
       "    <tr>\n",
       "      <th>Random Forest Classifier</th>\n",
       "      <td>0.887321</td>\n",
       "      <td>0.886957</td>\n",
       "      <td>0.878788</td>\n",
       "    </tr>\n",
       "  </tbody>\n",
       "</table>\n",
       "</div>"
      ],
      "text/plain": [
       "                          F1-Score  Accuracy    Recall\n",
       "Random Forest Classifier  0.887321  0.886957  0.878788"
      ]
     },
     "execution_count": 42,
     "metadata": {},
     "output_type": "execute_result"
    }
   ],
   "source": [
    "df_scores[df_scores[\"Accuracy\"]==max(df_scores[\"Accuracy\"])]"
   ]
  }
 ],
 "metadata": {
  "kernelspec": {
   "display_name": "Python 3",
   "language": "python",
   "name": "python3"
  },
  "language_info": {
   "codemirror_mode": {
    "name": "ipython",
    "version": 3
   },
   "file_extension": ".py",
   "mimetype": "text/x-python",
   "name": "python",
   "nbconvert_exporter": "python",
   "pygments_lexer": "ipython3",
   "version": "3.8.8"
  },
  "papermill": {
   "default_parameters": {},
   "duration": 50.534773,
   "end_time": "2021-12-06T00:16:12.855593",
   "environment_variables": {},
   "exception": null,
   "input_path": "__notebook__.ipynb",
   "output_path": "__notebook__.ipynb",
   "parameters": {},
   "start_time": "2021-12-06T00:15:22.320820",
   "version": "2.3.3"
  }
 },
 "nbformat": 4,
 "nbformat_minor": 5
}
